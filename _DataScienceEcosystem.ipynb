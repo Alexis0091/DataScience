{
 "cells": [
  {
   "cell_type": "markdown",
   "id": "7fa928ed-3f9d-4f93-8d8f-758190d69815",
   "metadata": {},
   "source": [
    "<h1>Data Science Tools and Ecosystem</h1>"
   ]
  },
  {
   "cell_type": "markdown",
   "id": "71d3a81d-e364-47cc-96f9-48badcd627be",
   "metadata": {},
   "source": [
    "In this notebook, Data Science Tools and Ecosystem are summarized."
   ]
  },
  {
   "cell_type": "markdown",
   "id": "650e5820-ea2f-4b2c-9bb5-e86e1e51b843",
   "metadata": {},
   "source": [
    "**Objectives:**\n",
    "\n",
    "* Identify commonly used libraries in Data Science.\n",
    "* Learn basic concepts of jupyter Notebook.\n",
    "* Understand the languages used in Data Science."
   ]
  },
  {
   "cell_type": "markdown",
   "id": "86e901c1-f79e-4c8f-ab1d-e656682fa5ab",
   "metadata": {},
   "source": [
    "Some of the popular languages that Data Scientists use are:\n",
    "\n",
    "1. SQL\n",
    "2. Python\n",
    "3. R"
   ]
  },
  {
   "cell_type": "markdown",
   "id": "a5ace3cc-898c-426b-94ce-90ea1afac081",
   "metadata": {},
   "source": [
    "Some of the commonly used libraries used by Data Scientists include:\n",
    "\n",
    "1. SciPy\n",
    "2. Pandas\n",
    "3. Numbpy"
   ]
  },
  {
   "cell_type": "markdown",
   "id": "883d4d2e-00c8-4ffc-929e-14a077607b63",
   "metadata": {},
   "source": [
    "|Data Science Tools|\n",
    "|-------------------|\n",
    "|Jupyter Notebook|\n",
    "|RStudio|\n",
    "|Apache Zeppelin|"
   ]
  },
  {
   "cell_type": "markdown",
   "id": "cca1dc21-abb5-443a-b3df-73cea6a7f191",
   "metadata": {},
   "source": [
    "### Below are a few examples of evaluating arithmetic expressions in Python ###"
   ]
  },
  {
   "cell_type": "code",
   "execution_count": 5,
   "id": "327c37d8-c680-47fe-aa1f-14931f39426e",
   "metadata": {},
   "outputs": [
    {
     "data": {
      "text/plain": [
       "17"
      ]
     },
     "execution_count": 5,
     "metadata": {},
     "output_type": "execute_result"
    }
   ],
   "source": [
    "# This a simple arithmetic expression to multiply then add integers:\n",
    "\n",
    "(3 * 4) + 5"
   ]
  },
  {
   "cell_type": "code",
   "execution_count": 8,
   "id": "d931e363-723a-4db4-8e9e-9ddb4b067ada",
   "metadata": {},
   "outputs": [
    {
     "data": {
      "text/plain": [
       "3.3333333333333335"
      ]
     },
     "execution_count": 8,
     "metadata": {},
     "output_type": "execute_result"
    }
   ],
   "source": [
    "# This will convert 200 minutes to hours by diving by 60\n",
    "\n",
    "200 / 60"
   ]
  },
  {
   "cell_type": "markdown",
   "id": "42a08079-9da3-4965-824b-398f7314c5a0",
   "metadata": {},
   "source": [
    "<h2> Author</h2>"
   ]
  },
  {
   "cell_type": "markdown",
   "id": "9fd46990-c614-436c-9a39-8ef20f3b5a21",
   "metadata": {},
   "source": [
    " Alexis Calbul Garrido"
   ]
  }
 ],
 "metadata": {
  "kernelspec": {
   "display_name": "Python 3 (ipykernel)",
   "language": "python",
   "name": "python3"
  },
  "language_info": {
   "codemirror_mode": {
    "name": "ipython",
    "version": 3
   },
   "file_extension": ".py",
   "mimetype": "text/x-python",
   "name": "python",
   "nbconvert_exporter": "python",
   "pygments_lexer": "ipython3",
   "version": "3.11.9"
  }
 },
 "nbformat": 4,
 "nbformat_minor": 5
}
